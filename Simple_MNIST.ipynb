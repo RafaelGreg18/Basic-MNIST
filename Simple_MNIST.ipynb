{
  "cells": [
    {
      "cell_type": "code",
      "execution_count": 162,
      "metadata": {
        "id": "H7724Wz47hXh"
      },
      "outputs": [],
      "source": [
        "import tensorflow as tf\n",
        "import tensorflow_datasets as tfds\n",
        "from tensorflow import keras\n",
        "\n",
        "import numpy as np"
      ]
    },
    {
      "cell_type": "code",
      "execution_count": null,
      "metadata": {
        "id": "PqnEAPoYSlXl"
      },
      "outputs": [],
      "source": [
        "dtset = keras.datasets.mnist\n",
        "(train_img, train_lbl), (test_img, test_lbl) = dtset.load_data()\n",
        "\n",
        "class_names = [str(i) for i in range(10)]"
      ]
    },
    {
      "cell_type": "code",
      "execution_count": 164,
      "metadata": {
        "id": "9FtLvnIOZfht"
      },
      "outputs": [],
      "source": [
        "#Preprocessing the images by dividing every pixel by 255.0, making the values range in [0., 1.]\n",
        "\n",
        "train_img = train_img/255.0\n",
        "test_img = test_img/255.0"
      ]
    },
    {
      "cell_type": "code",
      "execution_count": 165,
      "metadata": {
        "id": "i13Q1dcoZ1VX"
      },
      "outputs": [],
      "source": [
        "model = keras.Sequential([\n",
        "    keras.layers.Conv2D(32, kernel_size=(3, 3), activation='relu', input_shape=(28, 28, 1)),\n",
        "    keras.layers.MaxPooling2D(pool_size=(2, 2)),\n",
        "    keras.layers.Conv2D(64, kernel_size=(3, 3), activation='relu'),\n",
        "    keras.layers.MaxPooling2D(pool_size=(2, 2)),\n",
        "    \n",
        "    keras.layers.Flatten(input_shape=(28,28)),\n",
        "    \n",
        "    keras.layers.Dense(128, activation = 'relu'),\n",
        "    keras.layers.Dense(10, activation = 'softmax')\n",
        "])"
      ]
    },
    {
      "cell_type": "code",
      "execution_count": 166,
      "metadata": {
        "colab": {
          "base_uri": "https://localhost:8080/"
        },
        "id": "ijGtqMZ6cPDn",
        "outputId": "f85a21ca-3ed7-446f-c04e-f7b064ec9937"
      },
      "outputs": [
        {
          "name": "stdout",
          "output_type": "stream",
          "text": [
            "Epoch 1/2\n",
            "1875/1875 [==============================] - 70s 37ms/step - loss: 0.1303 - accuracy: 0.9606\n",
            "Epoch 2/2\n",
            "1875/1875 [==============================] - 65s 35ms/step - loss: 0.0436 - accuracy: 0.9865\n"
          ]
        },
        {
          "data": {
            "text/plain": [
              "<keras.callbacks.History at 0x7efc3bd96d90>"
            ]
          },
          "execution_count": 166,
          "metadata": {},
          "output_type": "execute_result"
        }
      ],
      "source": [
        "model.compile(optimizer='adam', \n",
        "              loss='sparse_categorical_crossentropy',\n",
        "              metrics=['accuracy'])\n",
        "\n",
        "model.fit(train_img, train_lbl, epochs=2)"
      ]
    },
    {
      "cell_type": "code",
      "execution_count": 167,
      "metadata": {
        "colab": {
          "base_uri": "https://localhost:8080/"
        },
        "id": "Ndliq7D9h40g",
        "outputId": "b060c1b6-9e56-4630-fc2a-c4ee56353a3f"
      },
      "outputs": [
        {
          "name": "stdout",
          "output_type": "stream",
          "text": [
            "313/313 [==============================] - 3s 10ms/step - loss: 0.0330 - accuracy: 0.9905\n",
            "Accuracy: 0.9904999732971191\n"
          ]
        }
      ],
      "source": [
        "test_loss, test_acc = model.evaluate(test_img, test_lbl, verbose=1)\n",
        "print('Accuracy:', test_acc)"
      ]
    }
  ],
  "metadata": {
    "colab": {
      "provenance": []
    },
    "kernelspec": {
      "display_name": "Python 3",
      "name": "python3"
    },
    "language_info": {
      "name": "python"
    }
  },
  "nbformat": 4,
  "nbformat_minor": 0
}
